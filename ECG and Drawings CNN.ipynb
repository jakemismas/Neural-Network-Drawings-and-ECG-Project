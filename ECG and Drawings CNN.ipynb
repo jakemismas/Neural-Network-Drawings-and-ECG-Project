{
 "cells": [
  {
   "attachments": {},
   "cell_type": "markdown",
   "metadata": {},
   "source": [
    "# 1-D and 2-D Convolutional Neural Networks in Pytorch\n",
    "This was a 1D and 2D CNN project I completed in 2022. I've set up this notebook to read like an experiment, and walk the viewer through the creation of a variety of CNN's and their application on a ECG dataset. \n",
    "\n",
    "## Overview\n",
    "\n",
    "I experimented with convolutional neural network for 2-dimensional input samples (images), in class `CNN2D`, by applying it to the MNIST (hand drawn image set) data.  I also  defined a new class for handling 1-dimensional input samples, called `CNN1D`, that extends `CNN2D`. Near the end of this notebook I tested my NN on a ECG dataset.\n",
    "\n",
    "## High-level Project Explaination\n",
    "\n",
    "In this project, I started by developing a 2D Convolutional Neural Network (CNN). A 2D CNN is a type of deep learning model used for image classification and processing tasks. In a 2D CNN, the input image is processed through multiple layers of filters that convolve with the input to extract features. The extracted features are then processed through non-linear activation functions and subsampled by pooling. The final output is a predicted class label. 2D CNNs are widely used in computer vision tasks due to their ability to learn rich representations from training data.\n",
    "\n",
    "I loaded a dataset of over 10,000 hand-drawn digits and applied my 2D CNN to the dataset.\n",
    "\n",
    "Next, I implemented a 1D CNN. 1D CNNs are used for processing sequences of data, such as time series data, audio signals, or text. The input in a 1D CNN is a 1D array or sequence of values, and the filters in the convolutional layers are designed to detect specific patterns and structures in the input sequence. In contrast, 2D CNNs are designed to process images. The input in a 2D CNN is a 2D array of pixels, and the filters in the convolutional layers are designed to detect specific patterns and textures in the image.\n",
    "\n",
    "Another difference between the two is the way the convolutional layers are implemented. In a 1D CNN, the convolutions are performed along the temporal axis, while in a 2D CNN, the convolutions are performed on both the vertical and horizontal axes. Additionally, the subsampling or pooling operation in a 1D CNN typically reduces the temporal dimension, while in a 2D CNN, it reduces the spatial dimensions.\n",
    "\n",
    "To conclude the project, I loaded an electrocardiogram (ECG) dataset and used the 1D CNN with the best architecture to classify each 2,000-sample segment into the classes \"normal\" or \"arrythmia.\""
   ]
  },
  {
   "cell_type": "code",
   "execution_count": 24,
   "metadata": {},
   "outputs": [],
   "source": [
    "import numpy as np\n",
    "import torch\n",
    "import pandas\n",
    "\n",
    "import matplotlib.pyplot as plt"
   ]
  },
  {
   "cell_type": "markdown",
   "metadata": {},
   "source": [
    "## `CNN2D` class"
   ]
  },
  {
   "cell_type": "code",
   "execution_count": 25,
   "metadata": {},
   "outputs": [],
   "source": [
    "import numpy as np\n",
    "import torch\n",
    "\n",
    "\n",
    "class CNN2D(torch.nn.Module):\n",
    "\n",
    "    def __init__(self, n_inputs, n_hiddens_per_conv_layer, n_hiddens_per_fc_layer, n_outputs,\n",
    "                 patch_size_per_conv_layer, stride_per_conv_layer, activation_function='tanh', device='cpu'):\n",
    "\n",
    "        super().__init__()\n",
    "\n",
    "        self.device = device\n",
    "\n",
    "        n_conv_layers = len(n_hiddens_per_conv_layer)\n",
    "        if (len(patch_size_per_conv_layer) != n_conv_layers\n",
    "            or len(stride_per_conv_layer) != n_conv_layers):\n",
    "            raise Exception('The lengths of n_hiddens_per_conv_layer, patch_size_per_conv_layer, and stride_per_conv_layer must be equal.')\n",
    "\n",
    "        self.activation_function = torch.tanh if activation_function == 'tanh' else torch.relu\n",
    "\n",
    "        self.make_conv_and_fc_layers(n_inputs, n_hiddens_per_conv_layer, n_hiddens_per_fc_layer, n_outputs,\n",
    "                                     patch_size_per_conv_layer, stride_per_conv_layer)\n",
    "        \n",
    "        self.Xmeans = None\n",
    "        self.to(self.device)\n",
    "\n",
    "    def make_conv_and_fc_layers(self, n_inputs, n_hiddens_per_conv_layer, n_hiddens_per_fc_layer, n_outputs,\n",
    "                                patch_size_per_conv_layer, stride_per_conv_layer):\n",
    "        # Create all convolutional layers\n",
    "        # First argument to first Conv2d is number of channels for each pixel.\n",
    "        # Just 1 for our grayscale images.\n",
    "        n_in = 1\n",
    "        input_hw = int(np.sqrt(n_inputs))  # original input image height (=width because image assumed square)\n",
    "        self.conv_layers = torch.nn.ModuleList()\n",
    "        layeri = 0\n",
    "        for nh, patch_size, stride in zip(n_hiddens_per_conv_layer,\n",
    "                                          patch_size_per_conv_layer,\n",
    "                                          stride_per_conv_layer):\n",
    "            self.conv_layers.append(torch.nn.Conv2d(n_in, nh, kernel_size=patch_size, stride=stride))\n",
    "            conv_layer_output_hw = (input_hw - patch_size) // stride + 1\n",
    "            if conv_layer_output_hw <= 0:\n",
    "                raise Exception(f'''For conv layer {layeri}, input_hw of {input_hw} is less than patch_size {patch_size}.\n",
    "Try reducing the patch_size for this layer or for the previous layer.''')\n",
    "            input_hw = conv_layer_output_hw  # for next trip through this loop\n",
    "            n_in = nh\n",
    "            layeri += 1\n",
    "           \n",
    "        # Create all fully connected layers.  First must determine number of inputs to first\n",
    "        # fully-connected layer that results from flattening the images coming out of the last\n",
    "        # convolutional layer.\n",
    "        n_in = input_hw ** 2 * n_in\n",
    "        self.fc_layers = torch.nn.ModuleList()\n",
    "        for nh in n_hiddens_per_fc_layer:\n",
    "            self.fc_layers.append(torch.nn.Linear(n_in, nh))\n",
    "            n_in = nh\n",
    "        self.fc_layers.append(torch.nn.Linear(n_in, n_outputs))\n",
    "\n",
    "    def forward_all_outputs(self, X):\n",
    "        n_samples = X.shape[0]\n",
    "        Ys = [X]\n",
    "        for conv_layer in self.conv_layers:\n",
    "            Ys.append(self.activation_function(conv_layer(Ys[-1])))\n",
    "\n",
    "        flattened_input = Ys[-1].reshape(n_samples, -1)\n",
    "\n",
    "        for layeri, fc_layer in enumerate(self.fc_layers[:-1]):\n",
    "            if layeri == 0:\n",
    "                Ys.append(self.activation_function(fc_layer(flattened_input)))\n",
    "            else:\n",
    "                Ys.append(self.activation_function(fc_layer(Ys[-1])))\n",
    "\n",
    "        if len(self.fc_layers) == 1:\n",
    "            # only the output layer\n",
    "            Ys.append(self.fc_layers[-1](flattened_input))\n",
    "        else:\n",
    "            Ys.append(self.fc_layers[-1](Ys[-1]))\n",
    "\n",
    "        return Ys\n",
    "\n",
    "    def forward(self, X):\n",
    "        Ys = self.forward_all_outputs(X)\n",
    "        return Ys[-1]\n",
    "\n",
    "    def train(self, X, T, batch_size, n_epochs, learning_rate, method='sgd', verbose=True):\n",
    "        '''X and T must be numpy arrays'''\n",
    "\n",
    "        self.classes = np.unique(T)\n",
    "        T = np.arange(len(self.classes))[np.where(T.reshape(-1, 1) == self.classes)[1]]\n",
    "\n",
    "        # Set data matrices to torch.tensors\n",
    "        X = torch.from_numpy(X).float().to(self.device)\n",
    "        T = torch.from_numpy(T).long().to(self.device)  # required for classification in pytorch\n",
    "\n",
    "        # Setup standardization parameters\n",
    "        if self.Xmeans is None:\n",
    "            self.Xmeans = X.mean(axis=0)\n",
    "            self.Xstds = X.std(axis=0)\n",
    "            self.Xstds[self.Xstds == 0] = 1  # So we don't divide by zero when standardizing\n",
    "\n",
    "        # Standardize X\n",
    "        X = (X - self.Xmeans) / self.Xstds\n",
    "\n",
    "        X.requires_grad_(True)\n",
    "\n",
    "        if method == 'sgd':\n",
    "            optimizer = torch.optim.SGD(self.parameters(), lr=learning_rate, momentum=0.9)\n",
    "        else:\n",
    "            optimizer = torch.optim.Adam(self.parameters(), lr=learning_rate)\n",
    "\n",
    "        CELoss = torch.nn.CrossEntropyLoss(reduction='mean')\n",
    "        self.error_trace = []\n",
    "\n",
    "        for epoch in range(n_epochs):\n",
    "\n",
    "            num_batches = X.shape[0] // batch_size\n",
    "            loss_sum = 0\n",
    "\n",
    "            for k in range(num_batches):\n",
    "                start = k * batch_size\n",
    "                end = (k + 1) * batch_size\n",
    "                X_batch = X[start:end, ...]\n",
    "                T_batch = T[start:end, ...]\n",
    "\n",
    "                Y = self.forward(X_batch)\n",
    "\n",
    "                loss = CELoss(Y, T_batch)\n",
    "                loss.backward()\n",
    "\n",
    "                # Update parameters\n",
    "                optimizer.step()\n",
    "                optimizer.zero_grad()\n",
    "\n",
    "                loss_sum += loss\n",
    "\n",
    "            self.error_trace.append(loss_sum / num_batches)\n",
    "\n",
    "            if verbose and (epoch + 1) % (max(1, n_epochs // 10)) == 0:\n",
    "                print(f'{method}: Epoch {epoch + 1} Loss {self.error_trace[-1]:.3f}')\n",
    "\n",
    "        return self\n",
    "\n",
    "    def softmax(self, Y):\n",
    "        '''Apply to final layer weighted sum outputs'''\n",
    "        # Trick to avoid overflow\n",
    "        maxY = torch.max(Y, axis=1)[0].reshape((-1, 1))\n",
    "        expY = torch.exp(Y - maxY)\n",
    "        denom = torch.sum(expY, axis=1).reshape((-1, 1))\n",
    "        Y = expY / denom\n",
    "        return Y\n",
    "\n",
    "    def use(self, X):\n",
    "        # Set input matrix to torch.tensors\n",
    "        X = torch.from_numpy(X).float().to(self.device)\n",
    "        # Standardize X\n",
    "        X = (X - self.Xmeans) / self.Xstds\n",
    "        # Calculate output of net for all samples in X\n",
    "        Y = self.forward(X)\n",
    "        # Convert output to class probabilities\n",
    "        probs = self.softmax(Y)\n",
    "        # For each sample pick highest probability and translate that to class labels\n",
    "        classes = self.classes[torch.argmax(probs, axis=1).cpu().numpy()].reshape(-1, 1)\n",
    "        return classes, probs.detach().cpu().numpy()"
   ]
  },
  {
   "attachments": {},
   "cell_type": "markdown",
   "metadata": {},
   "source": [
    "### CNN2D on MNIST Digits\n",
    "\n",
    "I used a bunch (50,000) images of hand drawn digits from [this deeplearning.net site](http://deeplearning.net/tutorial/gettingstarted.html).  To use, download `mnist.pkl.gz` \n",
    "\n",
    "This pickle file includes data already partitioned into training, validation, and test sets.  To read it into python, I used the following steps..."
   ]
  },
  {
   "cell_type": "code",
   "execution_count": 26,
   "metadata": {},
   "outputs": [
    {
     "name": "stdout",
     "output_type": "stream",
     "text": [
      "(50000, 1, 28, 28) (50000, 1) (10000, 784) (10000, 1) (10000, 1, 28, 28) (10000, 1)\n"
     ]
    }
   ],
   "source": [
    "import pickle\n",
    "import gzip\n",
    "\n",
    "with gzip.open('mnist.pkl.gz', 'rb') as f:\n",
    "    train_set, valid_set, test_set = pickle.load(f, encoding='latin1')\n",
    "\n",
    "Xtrain = train_set[0]\n",
    "Ttrain = train_set[1].reshape(-1, 1)\n",
    "\n",
    "Xval = valid_set[0]\n",
    "Tval = valid_set[1].reshape(-1, 1)\n",
    "\n",
    "Xtest = test_set[0]\n",
    "Ttest = test_set[1].reshape(-1, 1)\n",
    "\n",
    "Xtrain = Xtrain.reshape(-1, 1, 28, 28)\n",
    "Xtest = Xtest.reshape(-1, 1, 28, 28)\n",
    "\n",
    "print(Xtrain.shape, Ttrain.shape,  Xval.shape, Tval.shape,  Xtest.shape, Ttest.shape)"
   ]
  },
  {
   "cell_type": "code",
   "execution_count": 27,
   "metadata": {},
   "outputs": [
    {
     "name": "stdout",
     "output_type": "stream",
     "text": [
      "Running on cpu\n"
     ]
    }
   ],
   "source": [
    "device = 'cpu'\n",
    "if torch.cuda.is_available():\n",
    "    y_or_n = input('Would you like to run on the GPU? (y or n): ')\n",
    "    if y_or_n == 'y' or y_or_n == 'yes':\n",
    "        device = torch.device('cuda:0' if torch.cuda.is_available() else 'cpu')\n",
    "print('Running on', device)"
   ]
  },
  {
   "cell_type": "code",
   "execution_count": 28,
   "metadata": {},
   "outputs": [
    {
     "data": {
      "text/plain": [
       "10"
      ]
     },
     "execution_count": 28,
     "metadata": {},
     "output_type": "execute_result"
    }
   ],
   "source": [
    "len(np.unique(Ttrain))"
   ]
  },
  {
   "cell_type": "code",
   "execution_count": 30,
   "metadata": {},
   "outputs": [
    {
     "name": "stdout",
     "output_type": "stream",
     "text": [
      "adam: Epoch 2 Loss 0.396\n",
      "adam: Epoch 4 Loss 0.246\n",
      "adam: Epoch 6 Loss 0.208\n",
      "adam: Epoch 8 Loss 0.178\n",
      "adam: Epoch 10 Loss 0.169\n",
      "adam: Epoch 12 Loss 0.160\n",
      "adam: Epoch 14 Loss 0.158\n",
      "adam: Epoch 16 Loss 0.150\n",
      "adam: Epoch 18 Loss 0.146\n",
      "adam: Epoch 20 Loss 0.147\n"
     ]
    },
    {
     "data": {
      "text/plain": [
       "CNN2D(\n",
       "  (conv_layers): ModuleList(\n",
       "    (0): Conv2d(1, 10, kernel_size=(10, 10), stride=(4, 4))\n",
       "    (1): Conv2d(10, 10, kernel_size=(5, 5), stride=(2, 2))\n",
       "  )\n",
       "  (fc_layers): ModuleList(\n",
       "    (0): Linear(in_features=10, out_features=5, bias=True)\n",
       "    (1): Linear(in_features=5, out_features=10, bias=True)\n",
       "  )\n",
       ")"
      ]
     },
     "execution_count": 30,
     "metadata": {},
     "output_type": "execute_result"
    }
   ],
   "source": [
    "n_hiddens_per_conv_layer = [10, 10]\n",
    "patch_size_per_conv_layer = [10, 5]\n",
    "stride_per_conv_layer=[4, 2]\n",
    "n_hiddens_per_fc_layer = [5]\n",
    "\n",
    "cnnet = CNN2D(28 * 28, n_hiddens_per_conv_layer, n_hiddens_per_fc_layer, len(np.unique(Ttrain)), \n",
    "              patch_size_per_conv_layer, stride_per_conv_layer, device=device)\n",
    "\n",
    "n_epochs = 20\n",
    "batch_size = 500\n",
    "learning_rate = 0.01\n",
    "\n",
    "cnnet.train(Xtrain, Ttrain, batch_size, n_epochs, learning_rate, method='adam')"
   ]
  },
  {
   "cell_type": "code",
   "execution_count": 31,
   "metadata": {},
   "outputs": [],
   "source": [
    "def confusion_matrix(Y_classes, T):\n",
    "    class_names = np.unique(T)\n",
    "    table = []\n",
    "    for true_class in class_names:\n",
    "        row = []\n",
    "        for Y_class in class_names:\n",
    "            row.append(100 * np.mean(Y_classes[T == true_class] == Y_class))\n",
    "        table.append(row)\n",
    "    conf_matrix = pandas.DataFrame(table, index=class_names, columns=class_names)\n",
    "    return conf_matrix"
   ]
  },
  {
   "cell_type": "code",
   "execution_count": 32,
   "metadata": {},
   "outputs": [
    {
     "name": "stdout",
     "output_type": "stream",
     "text": [
      "Test accuracy in percent correct: 94.61\n"
     ]
    },
    {
     "data": {
      "text/html": [
       "<div>\n",
       "<style scoped>\n",
       "    .dataframe tbody tr th:only-of-type {\n",
       "        vertical-align: middle;\n",
       "    }\n",
       "\n",
       "    .dataframe tbody tr th {\n",
       "        vertical-align: top;\n",
       "    }\n",
       "\n",
       "    .dataframe thead th {\n",
       "        text-align: right;\n",
       "    }\n",
       "</style>\n",
       "<table border=\"1\" class=\"dataframe\">\n",
       "  <thead>\n",
       "    <tr style=\"text-align: right;\">\n",
       "      <th></th>\n",
       "      <th>0</th>\n",
       "      <th>1</th>\n",
       "      <th>2</th>\n",
       "      <th>3</th>\n",
       "      <th>4</th>\n",
       "      <th>5</th>\n",
       "      <th>6</th>\n",
       "      <th>7</th>\n",
       "      <th>8</th>\n",
       "      <th>9</th>\n",
       "    </tr>\n",
       "  </thead>\n",
       "  <tbody>\n",
       "    <tr>\n",
       "      <th>0</th>\n",
       "      <td>97.653061</td>\n",
       "      <td>0.000000</td>\n",
       "      <td>0.000000</td>\n",
       "      <td>0.000000</td>\n",
       "      <td>0.000000</td>\n",
       "      <td>0.204082</td>\n",
       "      <td>0.918367</td>\n",
       "      <td>0.204082</td>\n",
       "      <td>0.612245</td>\n",
       "      <td>0.408163</td>\n",
       "    </tr>\n",
       "    <tr>\n",
       "      <th>1</th>\n",
       "      <td>0.000000</td>\n",
       "      <td>98.237885</td>\n",
       "      <td>0.440529</td>\n",
       "      <td>0.088106</td>\n",
       "      <td>0.088106</td>\n",
       "      <td>0.000000</td>\n",
       "      <td>0.264317</td>\n",
       "      <td>0.176211</td>\n",
       "      <td>0.616740</td>\n",
       "      <td>0.088106</td>\n",
       "    </tr>\n",
       "    <tr>\n",
       "      <th>2</th>\n",
       "      <td>0.581395</td>\n",
       "      <td>0.775194</td>\n",
       "      <td>94.186047</td>\n",
       "      <td>2.519380</td>\n",
       "      <td>0.000000</td>\n",
       "      <td>0.000000</td>\n",
       "      <td>0.387597</td>\n",
       "      <td>0.581395</td>\n",
       "      <td>0.968992</td>\n",
       "      <td>0.000000</td>\n",
       "    </tr>\n",
       "    <tr>\n",
       "      <th>3</th>\n",
       "      <td>0.297030</td>\n",
       "      <td>0.000000</td>\n",
       "      <td>1.287129</td>\n",
       "      <td>93.960396</td>\n",
       "      <td>0.198020</td>\n",
       "      <td>1.188119</td>\n",
       "      <td>0.000000</td>\n",
       "      <td>1.683168</td>\n",
       "      <td>0.990099</td>\n",
       "      <td>0.396040</td>\n",
       "    </tr>\n",
       "    <tr>\n",
       "      <th>4</th>\n",
       "      <td>0.101833</td>\n",
       "      <td>0.407332</td>\n",
       "      <td>0.203666</td>\n",
       "      <td>0.000000</td>\n",
       "      <td>95.112016</td>\n",
       "      <td>0.101833</td>\n",
       "      <td>1.323829</td>\n",
       "      <td>0.203666</td>\n",
       "      <td>0.203666</td>\n",
       "      <td>2.342159</td>\n",
       "    </tr>\n",
       "    <tr>\n",
       "      <th>5</th>\n",
       "      <td>0.672646</td>\n",
       "      <td>0.000000</td>\n",
       "      <td>0.336323</td>\n",
       "      <td>1.008969</td>\n",
       "      <td>0.112108</td>\n",
       "      <td>92.040359</td>\n",
       "      <td>1.233184</td>\n",
       "      <td>0.224215</td>\n",
       "      <td>2.242152</td>\n",
       "      <td>2.130045</td>\n",
       "    </tr>\n",
       "    <tr>\n",
       "      <th>6</th>\n",
       "      <td>1.148225</td>\n",
       "      <td>0.835073</td>\n",
       "      <td>0.626305</td>\n",
       "      <td>0.000000</td>\n",
       "      <td>0.417537</td>\n",
       "      <td>0.939457</td>\n",
       "      <td>95.407098</td>\n",
       "      <td>0.000000</td>\n",
       "      <td>0.626305</td>\n",
       "      <td>0.000000</td>\n",
       "    </tr>\n",
       "    <tr>\n",
       "      <th>7</th>\n",
       "      <td>0.778210</td>\n",
       "      <td>0.875486</td>\n",
       "      <td>1.750973</td>\n",
       "      <td>0.875486</td>\n",
       "      <td>1.070039</td>\n",
       "      <td>0.000000</td>\n",
       "      <td>0.000000</td>\n",
       "      <td>92.801556</td>\n",
       "      <td>0.097276</td>\n",
       "      <td>1.750973</td>\n",
       "    </tr>\n",
       "    <tr>\n",
       "      <th>8</th>\n",
       "      <td>2.156057</td>\n",
       "      <td>0.410678</td>\n",
       "      <td>0.821355</td>\n",
       "      <td>1.437372</td>\n",
       "      <td>0.718686</td>\n",
       "      <td>0.616016</td>\n",
       "      <td>0.102669</td>\n",
       "      <td>0.205339</td>\n",
       "      <td>92.915811</td>\n",
       "      <td>0.616016</td>\n",
       "    </tr>\n",
       "    <tr>\n",
       "      <th>9</th>\n",
       "      <td>0.396432</td>\n",
       "      <td>0.495540</td>\n",
       "      <td>0.000000</td>\n",
       "      <td>0.792864</td>\n",
       "      <td>2.378593</td>\n",
       "      <td>0.594648</td>\n",
       "      <td>0.198216</td>\n",
       "      <td>0.891972</td>\n",
       "      <td>1.090188</td>\n",
       "      <td>93.161546</td>\n",
       "    </tr>\n",
       "  </tbody>\n",
       "</table>\n",
       "</div>"
      ],
      "text/plain": [
       "           0          1          2          3          4          5  \\\n",
       "0  97.653061   0.000000   0.000000   0.000000   0.000000   0.204082   \n",
       "1   0.000000  98.237885   0.440529   0.088106   0.088106   0.000000   \n",
       "2   0.581395   0.775194  94.186047   2.519380   0.000000   0.000000   \n",
       "3   0.297030   0.000000   1.287129  93.960396   0.198020   1.188119   \n",
       "4   0.101833   0.407332   0.203666   0.000000  95.112016   0.101833   \n",
       "5   0.672646   0.000000   0.336323   1.008969   0.112108  92.040359   \n",
       "6   1.148225   0.835073   0.626305   0.000000   0.417537   0.939457   \n",
       "7   0.778210   0.875486   1.750973   0.875486   1.070039   0.000000   \n",
       "8   2.156057   0.410678   0.821355   1.437372   0.718686   0.616016   \n",
       "9   0.396432   0.495540   0.000000   0.792864   2.378593   0.594648   \n",
       "\n",
       "           6          7          8          9  \n",
       "0   0.918367   0.204082   0.612245   0.408163  \n",
       "1   0.264317   0.176211   0.616740   0.088106  \n",
       "2   0.387597   0.581395   0.968992   0.000000  \n",
       "3   0.000000   1.683168   0.990099   0.396040  \n",
       "4   1.323829   0.203666   0.203666   2.342159  \n",
       "5   1.233184   0.224215   2.242152   2.130045  \n",
       "6  95.407098   0.000000   0.626305   0.000000  \n",
       "7   0.000000  92.801556   0.097276   1.750973  \n",
       "8   0.102669   0.205339  92.915811   0.616016  \n",
       "9   0.198216   0.891972   1.090188  93.161546  "
      ]
     },
     "execution_count": 32,
     "metadata": {},
     "output_type": "execute_result"
    }
   ],
   "source": [
    "Classes, _ = cnnet.use(Xtest)\n",
    "perc_correct = 100 * np.mean(Classes == Ttest)\n",
    "print(f'Test accuracy in percent correct: {perc_correct:.2f}')\n",
    "confusion_matrix(Classes, Ttest)"
   ]
  },
  {
   "attachments": {},
   "cell_type": "markdown",
   "metadata": {},
   "source": [
    "### Experiments to Explore CNN Architecture\n",
    "\n",
    "1. Compare test accuracy of CNN2D nets with one, two and three convolutional layers, each with 10 units and patch sizes of 5 and strides of 1.\n"
   ]
  },
  {
   "cell_type": "code",
   "execution_count": 34,
   "metadata": {},
   "outputs": [],
   "source": [
    "CNN2D_results_convolutional = []"
   ]
  },
  {
   "cell_type": "code",
   "execution_count": 35,
   "metadata": {},
   "outputs": [],
   "source": [
    "def accuracy_of_cnn2d_convolutional(ith_conv_layers):\n",
    "    \n",
    "    n_epochs = 20\n",
    "    batch_size = 500\n",
    "    learning_rate = 0.01\n",
    "    n_hiddens_per_fc_layer = [5]\n",
    "\n",
    "    print(\"CNN2D Net with \", ith_conv_layers, \" -----------------------\")\n",
    "    \n",
    "    n_hiddens_per_conv = list(map(int, (10 * np.ones(ith_conv_layers))))\n",
    "    patch_size_per_conv = list(map(int, (5 * np.ones(ith_conv_layers))))\n",
    "    stride_per_conv = list(map(int, (1 * np.ones(ith_conv_layers))))\n",
    "    \n",
    "    print(n_hiddens_per_conv)\n",
    "    \n",
    "    my_CNNNET = CNN2D(28 * 28, n_hiddens_per_conv, n_hiddens_per_fc_layer, len(np.unique(Ttrain)), patch_size_per_conv, stride_per_conv, device=device)\n",
    "        \n",
    "    my_CNNNET.train(Xtrain, Ttrain, batch_size, n_epochs, learning_rate, method = 'adam')\n",
    "        \n",
    "    class_train, _ = my_CNNNET.use(Xtrain)\n",
    "    percentage_correct_train = 100 * np.mean(class_train == Ttrain)\n",
    "    \n",
    "    class_test, _ = my_CNNNET.use(Xtest)\n",
    "    percentange_correct_test = 100 * np.mean(class_test == Ttest)\n",
    "    \n",
    "    CNN2D_results_convolutional.append([n_hiddens_per_conv, percentage_correct_train, percentange_correct_test])"
   ]
  },
  {
   "cell_type": "code",
   "execution_count": 36,
   "metadata": {},
   "outputs": [
    {
     "name": "stdout",
     "output_type": "stream",
     "text": [
      "CNN2D Net with  1  -----------------------\n",
      "[10]\n",
      "adam: Epoch 2 Loss 0.785\n",
      "adam: Epoch 4 Loss 0.655\n",
      "adam: Epoch 6 Loss 0.582\n",
      "adam: Epoch 8 Loss 0.557\n",
      "adam: Epoch 10 Loss 0.512\n",
      "adam: Epoch 12 Loss 0.486\n",
      "adam: Epoch 14 Loss 0.449\n",
      "adam: Epoch 16 Loss 0.434\n",
      "adam: Epoch 18 Loss 0.418\n",
      "adam: Epoch 20 Loss 0.418\n"
     ]
    }
   ],
   "source": [
    "accuracy_of_cnn2d_convolutional(1)"
   ]
  },
  {
   "cell_type": "code",
   "execution_count": 37,
   "metadata": {},
   "outputs": [
    {
     "name": "stdout",
     "output_type": "stream",
     "text": [
      "CNN2D Net with  2  -----------------------\n",
      "[10, 10]\n",
      "adam: Epoch 2 Loss 0.583\n",
      "adam: Epoch 4 Loss 0.405\n",
      "adam: Epoch 6 Loss 0.368\n",
      "adam: Epoch 8 Loss 0.336\n",
      "adam: Epoch 10 Loss 0.311\n",
      "adam: Epoch 12 Loss 0.298\n",
      "adam: Epoch 14 Loss 0.277\n",
      "adam: Epoch 16 Loss 0.317\n",
      "adam: Epoch 18 Loss 0.282\n",
      "adam: Epoch 20 Loss 0.262\n"
     ]
    }
   ],
   "source": [
    "accuracy_of_cnn2d_convolutional(2)"
   ]
  },
  {
   "cell_type": "code",
   "execution_count": 38,
   "metadata": {},
   "outputs": [
    {
     "name": "stdout",
     "output_type": "stream",
     "text": [
      "CNN2D Net with  3  -----------------------\n",
      "[10, 10, 10]\n",
      "adam: Epoch 2 Loss 0.556\n",
      "adam: Epoch 4 Loss 0.437\n",
      "adam: Epoch 6 Loss 0.346\n",
      "adam: Epoch 8 Loss 0.333\n",
      "adam: Epoch 10 Loss 0.321\n",
      "adam: Epoch 12 Loss 0.297\n",
      "adam: Epoch 14 Loss 0.309\n",
      "adam: Epoch 16 Loss 0.267\n",
      "adam: Epoch 18 Loss 0.262\n",
      "adam: Epoch 20 Loss 0.267\n"
     ]
    }
   ],
   "source": [
    "accuracy_of_cnn2d_convolutional(3)"
   ]
  },
  {
   "cell_type": "code",
   "execution_count": 39,
   "metadata": {},
   "outputs": [
    {
     "data": {
      "text/html": [
       "<div>\n",
       "<style scoped>\n",
       "    .dataframe tbody tr th:only-of-type {\n",
       "        vertical-align: middle;\n",
       "    }\n",
       "\n",
       "    .dataframe tbody tr th {\n",
       "        vertical-align: top;\n",
       "    }\n",
       "\n",
       "    .dataframe thead th {\n",
       "        text-align: right;\n",
       "    }\n",
       "</style>\n",
       "<table border=\"1\" class=\"dataframe\">\n",
       "  <thead>\n",
       "    <tr style=\"text-align: right;\">\n",
       "      <th></th>\n",
       "      <th>Hidden Conv Layers</th>\n",
       "      <th>Train Accuracy</th>\n",
       "      <th>Test Accuracy</th>\n",
       "    </tr>\n",
       "  </thead>\n",
       "  <tbody>\n",
       "    <tr>\n",
       "      <th>0</th>\n",
       "      <td>[10]</td>\n",
       "      <td>91.338</td>\n",
       "      <td>90.80</td>\n",
       "    </tr>\n",
       "    <tr>\n",
       "      <th>1</th>\n",
       "      <td>[10, 10]</td>\n",
       "      <td>93.298</td>\n",
       "      <td>93.65</td>\n",
       "    </tr>\n",
       "    <tr>\n",
       "      <th>2</th>\n",
       "      <td>[10, 10, 10]</td>\n",
       "      <td>92.796</td>\n",
       "      <td>93.44</td>\n",
       "    </tr>\n",
       "  </tbody>\n",
       "</table>\n",
       "</div>"
      ],
      "text/plain": [
       "  Hidden Conv Layers  Train Accuracy  Test Accuracy\n",
       "0               [10]          91.338          90.80\n",
       "1           [10, 10]          93.298          93.65\n",
       "2       [10, 10, 10]          92.796          93.44"
      ]
     },
     "execution_count": 39,
     "metadata": {},
     "output_type": "execute_result"
    }
   ],
   "source": [
    "pandas.DataFrame(CNN2D_results_convolutional, columns = ('Hidden Conv Layers', 'Train Accuracy', 'Test Accuracy'))"
   ]
  },
  {
   "attachments": {},
   "cell_type": "markdown",
   "metadata": {},
   "source": [
    "\n",
    "As seen in the table above, hidden conv layers of 2 performed best at identifying images correctly in the dataset."
   ]
  },
  {
   "attachments": {},
   "cell_type": "markdown",
   "metadata": {},
   "source": [
    "2. Using the best number of convolutional layers found in Step 1, compare the test accuracies of CNN2d nets with zero, one, and two fully-connected layers each with 10 hidden units."
   ]
  },
  {
   "cell_type": "code",
   "execution_count": 57,
   "metadata": {},
   "outputs": [],
   "source": [
    "CNN2D_results_full = []"
   ]
  },
  {
   "cell_type": "code",
   "execution_count": 58,
   "metadata": {},
   "outputs": [],
   "source": [
    "def accuracy_of_cnn2d_full(ith_full_layers):\n",
    "    \n",
    "    n_epochs = 20\n",
    "    batch_size = 500\n",
    "    learning_rate = 0.01\n",
    "    n_hiddens_per_conv = [10, 10]\n",
    "    patch_per_conv = [5, 5]\n",
    "    stride_per_conv = [1, 1]\n",
    "\n",
    "    print(\"CNN2D Net with \", ith_full_layers, \" -----------------------\")\n",
    "    \n",
    "    n_hiddens_per_fc = list(map(int, (10 * np.ones(ith_full_layers))))\n",
    "    \n",
    "    print(n_hiddens_per_fc)\n",
    "    \n",
    "    my_CNNNET = CNN2D(28 * 28, n_hiddens_per_conv, n_hiddens_per_fc_layer, len(np.unique(Ttrain)), patch_per_conv, stride_per_conv, device=device)\n",
    "        \n",
    "    my_CNNNET.train(Xtrain, Ttrain, batch_size, n_epochs, learning_rate, method = 'adam')\n",
    "        \n",
    "    class_train, _ = my_CNNNET.use(Xtrain)\n",
    "    percentage_correct_train = 100 * np.mean(class_train == Ttrain)\n",
    "    \n",
    "    class_test, _ = my_CNNNET.use(Xtest)\n",
    "    percentange_correct_test = 100 * np.mean(class_test == Ttest)\n",
    "    \n",
    "    CNN2D_results_full.append([n_hiddens_per_fc, percentage_correct_train, percentange_correct_test])"
   ]
  },
  {
   "cell_type": "code",
   "execution_count": 59,
   "metadata": {},
   "outputs": [
    {
     "name": "stdout",
     "output_type": "stream",
     "text": [
      "CNN2D Net with  0  -----------------------\n",
      "[]\n",
      "adam: Epoch 2 Loss 0.639\n",
      "adam: Epoch 4 Loss 0.512\n",
      "adam: Epoch 6 Loss 0.448\n",
      "adam: Epoch 8 Loss 0.363\n",
      "adam: Epoch 10 Loss 0.351\n",
      "adam: Epoch 12 Loss 0.329\n",
      "adam: Epoch 14 Loss 0.287\n",
      "adam: Epoch 16 Loss 0.286\n",
      "adam: Epoch 18 Loss 0.279\n",
      "adam: Epoch 20 Loss 0.271\n"
     ]
    }
   ],
   "source": [
    "accuracy_of_cnn2d_full(0)"
   ]
  },
  {
   "cell_type": "code",
   "execution_count": 60,
   "metadata": {},
   "outputs": [
    {
     "name": "stdout",
     "output_type": "stream",
     "text": [
      "CNN2D Net with  1  -----------------------\n",
      "[10]\n",
      "adam: Epoch 2 Loss 0.627\n",
      "adam: Epoch 4 Loss 0.448\n",
      "adam: Epoch 6 Loss 0.390\n",
      "adam: Epoch 8 Loss 0.355\n",
      "adam: Epoch 10 Loss 0.337\n",
      "adam: Epoch 12 Loss 0.335\n",
      "adam: Epoch 14 Loss 0.304\n",
      "adam: Epoch 16 Loss 0.285\n",
      "adam: Epoch 18 Loss 0.291\n",
      "adam: Epoch 20 Loss 0.277\n"
     ]
    }
   ],
   "source": [
    "accuracy_of_cnn2d_full(1)"
   ]
  },
  {
   "cell_type": "code",
   "execution_count": 61,
   "metadata": {},
   "outputs": [
    {
     "name": "stdout",
     "output_type": "stream",
     "text": [
      "CNN2D Net with  2  -----------------------\n",
      "[10, 10]\n",
      "adam: Epoch 2 Loss 0.633\n",
      "adam: Epoch 4 Loss 0.472\n",
      "adam: Epoch 6 Loss 0.404\n",
      "adam: Epoch 8 Loss 0.359\n",
      "adam: Epoch 10 Loss 0.377\n",
      "adam: Epoch 12 Loss 0.335\n",
      "adam: Epoch 14 Loss 0.338\n",
      "adam: Epoch 16 Loss 0.328\n",
      "adam: Epoch 18 Loss 0.320\n",
      "adam: Epoch 20 Loss 0.315\n"
     ]
    }
   ],
   "source": [
    "accuracy_of_cnn2d_full(2)"
   ]
  },
  {
   "cell_type": "code",
   "execution_count": 62,
   "metadata": {},
   "outputs": [
    {
     "data": {
      "text/html": [
       "<div>\n",
       "<style scoped>\n",
       "    .dataframe tbody tr th:only-of-type {\n",
       "        vertical-align: middle;\n",
       "    }\n",
       "\n",
       "    .dataframe tbody tr th {\n",
       "        vertical-align: top;\n",
       "    }\n",
       "\n",
       "    .dataframe thead th {\n",
       "        text-align: right;\n",
       "    }\n",
       "</style>\n",
       "<table border=\"1\" class=\"dataframe\">\n",
       "  <thead>\n",
       "    <tr style=\"text-align: right;\">\n",
       "      <th></th>\n",
       "      <th>Hidden Full Layers</th>\n",
       "      <th>Train Accuracy</th>\n",
       "      <th>Test Accuracy</th>\n",
       "    </tr>\n",
       "  </thead>\n",
       "  <tbody>\n",
       "    <tr>\n",
       "      <th>0</th>\n",
       "      <td>[]</td>\n",
       "      <td>93.654</td>\n",
       "      <td>93.44</td>\n",
       "    </tr>\n",
       "    <tr>\n",
       "      <th>1</th>\n",
       "      <td>[10]</td>\n",
       "      <td>94.112</td>\n",
       "      <td>93.99</td>\n",
       "    </tr>\n",
       "    <tr>\n",
       "      <th>2</th>\n",
       "      <td>[10, 10]</td>\n",
       "      <td>92.658</td>\n",
       "      <td>92.91</td>\n",
       "    </tr>\n",
       "  </tbody>\n",
       "</table>\n",
       "</div>"
      ],
      "text/plain": [
       "  Hidden Full Layers  Train Accuracy  Test Accuracy\n",
       "0                 []          93.654          93.44\n",
       "1               [10]          94.112          93.99\n",
       "2           [10, 10]          92.658          92.91"
      ]
     },
     "execution_count": 62,
     "metadata": {},
     "output_type": "execute_result"
    }
   ],
   "source": [
    "pandas.DataFrame(CNN2D_results_full, columns = ('Hidden Full Layers', 'Train Accuracy', 'Test Accuracy'))"
   ]
  },
  {
   "attachments": {},
   "cell_type": "markdown",
   "metadata": {},
   "source": [
    "In the first part of this experiment, the results showed that using 2 convolutional layers performed the best among 1, 2, and 3 layers. The initial hypothesis was that 3 layers would perform better, as they could potentially identify more patterns. However, 2 layers outperformed 3 by a slight margin. The reason for the better performance of 2 layers could be attributed to its ability to balance between overfitting and identifying crucial patterns in the data. Despite the limited training epochs (20), 2 layers still performed better. The neural network performed well on the dataset overall, with the accuracy of the training data being similar to that of the testing data, indicating minimal overfitting.\n",
    "\n",
    "In the second part of the experiment, after finding that 2 convolutional layers were optimal, further tests were conducted with different numbers of full hidden layers. The results showed that using 1 hidden full layer of [10] performed slightly better than using 0 or 2 full hidden layers. The slight improvement in accuracy could be due to the limited number of training epochs (20) for the full hidden layer of 2. Additionally, the full hidden layer of 0 might have performed worse as it did not account for certain complexities in the data that could affect the performance. In conclusion, a full hidden layer of 1 performed the best, but only by a marginal increase (~2%) in accuracy on average."
   ]
  },
  {
   "attachments": {},
   "cell_type": "markdown",
   "metadata": {},
   "source": [
    "## CNN1D"
   ]
  },
  {
   "cell_type": "code",
   "execution_count": 63,
   "metadata": {},
   "outputs": [],
   "source": [
    "class CNN1D(CNN2D):\n",
    "\n",
    "    def make_conv_and_fc_layers(self, n_inputs, n_hiddens_per_conv_layer, n_hiddens_per_fc_layer, n_outputs,\n",
    "                                patch_size_per_conv_layer, stride_per_conv_layer):\n",
    "\n",
    "        n_in = 1\n",
    "        input_len = n_inputs  # original input image height (=width because image assumed square)\n",
    "        self.conv_layers = torch.nn.ModuleList()\n",
    "        layeri = 0\n",
    "        for nh, patch_size, stride in zip(n_hiddens_per_conv_layer,\n",
    "                                          patch_size_per_conv_layer,\n",
    "                                          stride_per_conv_layer):\n",
    "            self.conv_layers.append(torch.nn.Conv1d(n_in, nh, kernel_size=patch_size, stride=stride))\n",
    "            conv_layer_output_len = (input_len - patch_size) // stride + 1\n",
    "            if conv_layer_output_len <= 0:\n",
    "                raise Exception(f'''For conv layer {layeri}, input_hw of {input_len} is less than patch_size {patch_size}.\n",
    "Try reducing the patch_size for this layer or for the previous layer.''')\n",
    "            input_len = conv_layer_output_len  # for next trip through this loop\n",
    "            n_in = nh\n",
    "            layeri += 1\n",
    "           \n",
    "        # Create all fully connected layers.  First must determine number of inputs to first\n",
    "        # fully-connected layer that results from flattening the images coming out of the last\n",
    "        # convolutional layer.\n",
    "        n_in = input_len * n_in\n",
    "        self.fc_layers = torch.nn.ModuleList()\n",
    "        for nh in n_hiddens_per_fc_layer:\n",
    "            self.fc_layers.append(torch.nn.Linear(n_in, nh))\n",
    "            n_in = nh\n",
    "        self.fc_layers.append(torch.nn.Linear(n_in, n_outputs))"
   ]
  },
  {
   "attachments": {},
   "cell_type": "markdown",
   "metadata": {},
   "source": [
    "### Toy Data to Test `CNN1D`\n",
    "\n",
    "Here is some toy data to test the `CNN1D` definition.  Each sample is now 1-dimensional.  In the following code, I made vectors of two kinds, ones with square pulses and ones with triangular pulses, at random locations and random durations. Both kinds will be 100 values long, with zeros between the waves."
   ]
  },
  {
   "cell_type": "code",
   "execution_count": 64,
   "metadata": {},
   "outputs": [],
   "source": [
    "def make_square_pulse():\n",
    "    sample = np.zeros(100)\n",
    "    for i in range(np.random.randint(1, 5)):  # making from 1 to 4 pulses\n",
    "        start = np.random.randint(0, 80)\n",
    "        width = np.random.randint(5, 20)\n",
    "        sample[start:start + width] = 1\n",
    "    return sample"
   ]
  },
  {
   "cell_type": "code",
   "execution_count": 65,
   "metadata": {},
   "outputs": [
    {
     "data": {
      "text/plain": [
       "array([0., 0., 0., 0., 0., 0., 0., 0., 0., 0., 0., 0., 0., 0., 0., 0., 0.,\n",
       "       0., 0., 0., 0., 0., 0., 0., 0., 0., 0., 0., 0., 0., 0., 0., 0., 0.,\n",
       "       0., 0., 0., 0., 0., 0., 0., 0., 0., 0., 0., 1., 1., 1., 1., 1., 1.,\n",
       "       1., 1., 1., 1., 1., 1., 1., 1., 1., 1., 1., 0., 0., 0., 0., 1., 1.,\n",
       "       1., 1., 1., 1., 1., 0., 0., 0., 0., 0., 0., 1., 1., 1., 1., 1., 1.,\n",
       "       1., 0., 0., 0., 0., 0., 0., 0., 0., 0., 0., 0., 0., 0., 0.])"
      ]
     },
     "execution_count": 65,
     "metadata": {},
     "output_type": "execute_result"
    }
   ],
   "source": [
    "square_pulse = make_square_pulse()\n",
    "square_pulse"
   ]
  },
  {
   "cell_type": "code",
   "execution_count": 66,
   "metadata": {
    "scrolled": true
   },
   "outputs": [
    {
     "data": {
      "text/plain": [
       "[<matplotlib.lines.Line2D at 0x16a1dfaf0>]"
      ]
     },
     "execution_count": 66,
     "metadata": {},
     "output_type": "execute_result"
    },
    {
     "data": {
      "image/png": "[encoded data removed]",
      "text/plain": [
       "<Figure size 432x288 with 1 Axes>"
      ]
     },
     "metadata": {
      "needs_background": "light"
     },
     "output_type": "display_data"
    }
   ],
   "source": [
    "plt.plot(square_pulse)"
   ]
  },
  {
   "cell_type": "code",
   "execution_count": 67,
   "metadata": {},
   "outputs": [],
   "source": [
    "def make_triangular_pulse():\n",
    "    sample = np.zeros(100)\n",
    "    for i in range(np.random.randint(1, 5)):  # making from 1 to 4 pulses\n",
    "        start = np.random.randint(0, 80)\n",
    "        width = np.random.randint(5, 20)\n",
    "        if width % 2 == 1:\n",
    "            width += 1  # if odd, make it even\n",
    "        sample[start:start + width // 2] = np.linspace(0, 1, width // 2)\n",
    "        sample[start + width // 2:start + width] = np.linspace(1, 0, width // 2)\n",
    "    return sample"
   ]
  },
  {
   "cell_type": "code",
   "execution_count": 68,
   "metadata": {},
   "outputs": [
    {
     "data": {
      "text/plain": [
       "array([0.        , 0.        , 0.        , 0.        , 0.        ,\n",
       "       0.16666667, 0.33333333, 0.5       , 0.66666667, 0.83333333,\n",
       "       1.        , 1.        , 0.83333333, 0.66666667, 0.        ,\n",
       "       0.125     , 0.25      , 0.375     , 0.5       , 0.625     ,\n",
       "       0.75      , 0.875     , 1.        , 1.        , 0.875     ,\n",
       "       0.75      , 0.625     , 0.5       , 0.375     , 0.25      ,\n",
       "       0.125     , 0.        , 0.        , 0.        , 0.        ,\n",
       "       0.        , 0.        , 0.        , 0.        , 0.        ,\n",
       "       0.        , 0.        , 0.        , 0.        , 0.        ,\n",
       "       0.        , 0.        , 0.        , 0.11111111, 0.22222222,\n",
       "       0.33333333, 0.44444444, 0.55555556, 0.66666667, 0.77777778,\n",
       "       0.        , 0.33333333, 0.66666667, 1.        , 1.        ,\n",
       "       0.66666667, 0.33333333, 0.        , 0.33333333, 0.22222222,\n",
       "       0.11111111, 0.        , 0.        , 0.        , 0.        ,\n",
       "       0.        , 0.        , 0.        , 0.        , 0.        ,\n",
       "       0.        , 0.        , 0.        , 0.        , 0.        ,\n",
       "       0.        , 0.        , 0.        , 0.        , 0.        ,\n",
       "       0.        , 0.        , 0.        , 0.        , 0.        ,\n",
       "       0.        , 0.        , 0.        , 0.        , 0.        ,\n",
       "       0.        , 0.        , 0.        , 0.        , 0.        ])"
      ]
     },
     "execution_count": 68,
     "metadata": {},
     "output_type": "execute_result"
    }
   ],
   "source": [
    "triangular_pulse = make_triangular_pulse()\n",
    "triangular_pulse"
   ]
  },
  {
   "cell_type": "code",
   "execution_count": 69,
   "metadata": {
    "scrolled": true
   },
   "outputs": [
    {
     "data": {
      "text/plain": [
       "[<matplotlib.lines.Line2D at 0x16a0ff910>]"
      ]
     },
     "execution_count": 69,
     "metadata": {},
     "output_type": "execute_result"
    },
    {
     "data": {
      "image/png": "[encoded data removed]",
      "text/plain": [
       "<Figure size 432x288 with 1 Axes>"
      ]
     },
     "metadata": {
      "needs_background": "light"
     },
     "output_type": "display_data"
    }
   ],
   "source": [
    "plt.plot(triangular_pulse)"
   ]
  },
  {
   "cell_type": "code",
   "execution_count": 70,
   "metadata": {},
   "outputs": [
    {
     "data": {
      "text/plain": [
       "((1000, 100), (1000, 1), (1000, 100), (1000, 1))"
      ]
     },
     "execution_count": 70,
     "metadata": {},
     "output_type": "execute_result"
    }
   ],
   "source": [
    "n_each = 500\n",
    "Xtrain = np.array([make_square_pulse() for i in range(n_each)] +\n",
    "                   [make_triangular_pulse() for i in range(n_each)])\n",
    "Ttrain = np.array(['square'] * n_each + ['triangular'] * n_each).reshape(-1, 1)\n",
    "n_each = 500\n",
    "Xtest = np.array([make_square_pulse() for i in range(n_each)] +\n",
    "                   [make_triangular_pulse() for i in range(n_each)])\n",
    "Ttest = np.array(['square'] * n_each + ['triangular'] * n_each).reshape(-1, 1)\n",
    "Xtrain.shape, Ttrain.shape, Xtest.shape, Ttest.shape"
   ]
  },
  {
   "cell_type": "code",
   "execution_count": 71,
   "metadata": {},
   "outputs": [
    {
     "data": {
      "text/plain": [
       "True"
      ]
     },
     "execution_count": 71,
     "metadata": {},
     "output_type": "execute_result"
    }
   ],
   "source": [
    "np.newaxis == None"
   ]
  },
  {
   "cell_type": "code",
   "execution_count": 72,
   "metadata": {},
   "outputs": [
    {
     "data": {
      "text/plain": [
       "(1000, 1, 100)"
      ]
     },
     "execution_count": 72,
     "metadata": {},
     "output_type": "execute_result"
    }
   ],
   "source": [
    "Xtrain = Xtrain[:, None, :]\n",
    "Xtrain.shape"
   ]
  },
  {
   "cell_type": "code",
   "execution_count": 73,
   "metadata": {},
   "outputs": [
    {
     "data": {
      "text/plain": [
       "((1000, 1, 100), (1000, 1, 100))"
      ]
     },
     "execution_count": 73,
     "metadata": {},
     "output_type": "execute_result"
    }
   ],
   "source": [
    "Xtrain = Xtrain.reshape(Xtrain.shape[0], 1, -1)\n",
    "Xtest = Xtest.reshape(Xtest.shape[0], 1, -1)\n",
    "Xtrain.shape, Xtest.shape"
   ]
  },
  {
   "cell_type": "code",
   "execution_count": 75,
   "metadata": {},
   "outputs": [
    {
     "name": "stdout",
     "output_type": "stream",
     "text": [
      "adam: Epoch 10 Loss 0.615\n",
      "adam: Epoch 20 Loss 0.447\n",
      "adam: Epoch 30 Loss 0.267\n",
      "adam: Epoch 40 Loss 0.118\n",
      "adam: Epoch 50 Loss 0.033\n",
      "adam: Epoch 60 Loss 0.010\n",
      "adam: Epoch 70 Loss 0.006\n",
      "adam: Epoch 80 Loss 0.015\n",
      "adam: Epoch 90 Loss 0.006\n",
      "adam: Epoch 100 Loss 0.001\n"
     ]
    },
    {
     "data": {
      "text/plain": [
       "CNN1D(\n",
       "  (conv_layers): ModuleList(\n",
       "    (0): Conv1d(1, 10, kernel_size=(10,), stride=(1,))\n",
       "    (1): Conv1d(10, 5, kernel_size=(4,), stride=(2,))\n",
       "  )\n",
       "  (fc_layers): ModuleList(\n",
       "    (0): Linear(in_features=220, out_features=5, bias=True)\n",
       "    (1): Linear(in_features=5, out_features=5, bias=True)\n",
       "    (2): Linear(in_features=5, out_features=2, bias=True)\n",
       "  )\n",
       ")"
      ]
     },
     "execution_count": 75,
     "metadata": {},
     "output_type": "execute_result"
    }
   ],
   "source": [
    "cnnet1 = CNN1D(100, [10, 5], [5, 5], 2, [10, 4], [1, 2], device=device)\n",
    "\n",
    "n_epochs = 100\n",
    "batch_size = 10\n",
    "learning_rate = 0.001\n",
    "\n",
    "cnnet1.train(Xtrain, Ttrain, batch_size, n_epochs, learning_rate, method='adam')\n"
   ]
  },
  {
   "cell_type": "code",
   "execution_count": 76,
   "metadata": {},
   "outputs": [
    {
     "name": "stdout",
     "output_type": "stream",
     "text": [
      "Test accuracy in percent correct: 99.10\n"
     ]
    },
    {
     "data": {
      "text/html": [
       "<div>\n",
       "<style scoped>\n",
       "    .dataframe tbody tr th:only-of-type {\n",
       "        vertical-align: middle;\n",
       "    }\n",
       "\n",
       "    .dataframe tbody tr th {\n",
       "        vertical-align: top;\n",
       "    }\n",
       "\n",
       "    .dataframe thead th {\n",
       "        text-align: right;\n",
       "    }\n",
       "</style>\n",
       "<table border=\"1\" class=\"dataframe\">\n",
       "  <thead>\n",
       "    <tr style=\"text-align: right;\">\n",
       "      <th></th>\n",
       "      <th>square</th>\n",
       "      <th>triangular</th>\n",
       "    </tr>\n",
       "  </thead>\n",
       "  <tbody>\n",
       "    <tr>\n",
       "      <th>square</th>\n",
       "      <td>98.4</td>\n",
       "      <td>1.6</td>\n",
       "    </tr>\n",
       "    <tr>\n",
       "      <th>triangular</th>\n",
       "      <td>0.2</td>\n",
       "      <td>99.8</td>\n",
       "    </tr>\n",
       "  </tbody>\n",
       "</table>\n",
       "</div>"
      ],
      "text/plain": [
       "            square  triangular\n",
       "square        98.4         1.6\n",
       "triangular     0.2        99.8"
      ]
     },
     "execution_count": 76,
     "metadata": {},
     "output_type": "execute_result"
    }
   ],
   "source": [
    "Classes, _ = cnnet1.use(Xtest)\n",
    "perc_correct = 100 * np.mean(Classes == Ttest)\n",
    "print(f'Test accuracy in percent correct: {perc_correct:.2f}')\n",
    "confusion_matrix(Classes, Ttest)"
   ]
  },
  {
   "cell_type": "code",
   "execution_count": 77,
   "metadata": {},
   "outputs": [
    {
     "data": {
      "text/plain": [
       "torch.Size([10, 10])"
      ]
     },
     "execution_count": 77,
     "metadata": {},
     "output_type": "execute_result"
    },
    {
     "data": {
      "image/png": "[encoded data removed]",
      "text/plain": [
       "<Figure size 432x288 with 1 Axes>"
      ]
     },
     "metadata": {
      "needs_background": "light"
     },
     "output_type": "display_data"
    }
   ],
   "source": [
    "W = list(cnnet1.children())[0][0].weight.data.cpu()  # in case running on GPU\n",
    "plt.plot(W[:, 0, :].T);\n",
    "W[:, 0, :].T.shape"
   ]
  },
  {
   "cell_type": "markdown",
   "metadata": {},
   "source": [
    "### Experiments on ECG Data"
   ]
  },
  {
   "attachments": {},
   "cell_type": "markdown",
   "metadata": {},
   "source": [
    "An [electrocardiogram](), or ECG, is a record in time of a voltage generated by the heart.  It can be used to diagnose abnormalities in the heart.\n",
    "\n",
    "Public datasets containing ECG traces are available, such as the [Non-Invasive Fetal ECG Arrhythmia Database](https://physionet.org/content/nifeadb/1.0.0/) site. The data files there are in a standard waveform-database (WFDB) format.  As is often the case for most standard data formats you run in to, a python package exists for reading this data, called [wfdb](https://github.com/MIT-LCP/wfdb-python) that you can install using [conda](https://anaconda.org/conda-forge/wfdb).\n",
    "\n",
    "This data set includes ECG from normal patients and from ones with arrythmias, with data file names like `ARR_01.dat` and `NR_01.dat`, respectively.  I have already downloaded these files, read them in using the `wfdb` package and collected them into segments of 2000 voltages.  The sample rate for this data is 1000 Hz, so 2000 voltages spans 2 seconds. To do this on your own, download this data set from [ecg.npy](https://www.cs.colostate.edu/~cs445/notebooks/ecg.npy) \n",
    "\n",
    "Now, the job for the `CNN1D` is to classify each 2000 sample segment into the classes `normal` or `arrythmia`."
   ]
  },
  {
   "cell_type": "markdown",
   "metadata": {},
   "source": [
    "After you have downloaded `ecg.npy`, you can load it and plot a few samples."
   ]
  },
  {
   "cell_type": "code",
   "execution_count": 78,
   "metadata": {},
   "outputs": [
    {
     "data": {
      "text/plain": [
       "((2429, 2000), (3634, 2000))"
      ]
     },
     "execution_count": 78,
     "metadata": {},
     "output_type": "execute_result"
    }
   ],
   "source": [
    "ecg = np.load('ecg.npy')\n",
    "arr = ecg['arrythmia']\n",
    "norm = ecg['normal']\n",
    "arr.shape, norm.shape"
   ]
  },
  {
   "cell_type": "code",
   "execution_count": 79,
   "metadata": {},
   "outputs": [
    {
     "data": {
      "image/png": "[encoded data removed]",
      "text/plain": [
       "<Figure size 1080x1080 with 4 Axes>"
      ]
     },
     "metadata": {
      "needs_background": "light"
     },
     "output_type": "display_data"
    }
   ],
   "source": [
    "plt.figure(figsize=(15, 15))\n",
    "\n",
    "plt.subplot(2, 2, 1)\n",
    "plt.plot(arr[0])\n",
    "plt.legend(('Arrythmia',))\n",
    "plt.subplot(2, 2, 2)\n",
    "plt.plot(arr[100])\n",
    "plt.legend(('Arrythmia',))\n",
    "\n",
    "plt.subplot(2, 2, 3)\n",
    "plt.plot(norm[0])\n",
    "plt.legend(('Normal',))\n",
    "plt.subplot(2, 2, 4)\n",
    "plt.plot(norm[100])\n",
    "plt.legend(('Normal',));"
   ]
  },
  {
   "cell_type": "markdown",
   "metadata": {},
   "source": [
    "Now, let's stack the `arr` and `norm` samples together, create class labels for each sample, randomly rearrange them, and divide into train and test sets."
   ]
  },
  {
   "cell_type": "code",
   "execution_count": 80,
   "metadata": {},
   "outputs": [
    {
     "data": {
      "text/plain": [
       "((4850, 1, 2000), (4850, 1), (1213, 1, 2000), (1213, 1))"
      ]
     },
     "execution_count": 80,
     "metadata": {},
     "output_type": "execute_result"
    }
   ],
   "source": [
    "X = np.vstack((arr, norm))\n",
    "X = X.reshape(X.shape[0], 1, -1)\n",
    "T = np.hstack((['arr'] * arr.shape[0], ['nr'] * norm.shape[0])).reshape(-1, 1)\n",
    "n_samples = X.shape[0]\n",
    "rows = np.arange(n_samples)\n",
    "np.random.shuffle(rows)\n",
    "n_train = int(n_samples * 0.8)\n",
    "Xtrain = X[rows[:n_train], ...]\n",
    "Ttrain = T[rows[:n_train], ...]\n",
    "Xtest = X[rows[n_train:], ...]\n",
    "Ttest = T[rows[n_train:], ...]\n",
    "\n",
    "Xtrain.shape, Ttrain.shape, Xtest.shape, Ttest.shape"
   ]
  },
  {
   "cell_type": "code",
   "execution_count": 81,
   "metadata": {},
   "outputs": [
    {
     "data": {
      "text/plain": [
       "array([['arr'],\n",
       "       ['arr'],\n",
       "       ['arr'],\n",
       "       ...,\n",
       "       ['nr'],\n",
       "       ['arr'],\n",
       "       ['nr']], dtype='<U3')"
      ]
     },
     "execution_count": 81,
     "metadata": {},
     "output_type": "execute_result"
    }
   ],
   "source": [
    "Ttrain"
   ]
  },
  {
   "cell_type": "markdown",
   "metadata": {},
   "source": [
    "Okay, ready to train.  Create a `CNN1D` network with a statements like this."
   ]
  },
  {
   "cell_type": "code",
   "execution_count": 34,
   "metadata": {},
   "outputs": [],
   "source": [
    "cnn1d = CNN1D(Xtrain.shape[-1], [5, 10], [10, 10], 2, [100, 20], [20, 5], device=device)"
   ]
  },
  {
   "attachments": {},
   "cell_type": "markdown",
   "metadata": {},
   "source": [
    "Now, experiment we will run ten different network structures, patch sizes and strides and compare them with the percent accuracy on test data.  Combine the results of each of our runs and then we will display them in a `pandas.Dataframe` that includes the network structure and percent correct on train and test sets."
   ]
  },
  {
   "cell_type": "code",
   "execution_count": 83,
   "metadata": {},
   "outputs": [],
   "source": [
    "net_struct_results = []"
   ]
  },
  {
   "cell_type": "code",
   "execution_count": 84,
   "metadata": {},
   "outputs": [],
   "source": [
    "def net_struct_experiment(n_hidden_conv, n_hidden_fc, patch_size_per_conv, stride_per_conv):\n",
    "    n_epochs = 2000\n",
    "    batch_size = 500\n",
    "    learning_rate = 0.01\n",
    "    \n",
    "    my_CNN = CNN1D(Xtrain.shape[-1], n_hidden_conv, n_hidden_fc, 2, patch_size_per_conv, stride_per_conv, device = device)\n",
    "    \n",
    "    my_CNN.train(Xtrain, Ttrain, batch_size, n_epochs, learning_rate, method='adam')\n",
    "    \n",
    "    class_train, _ = my_CNN.use(Xtrain)\n",
    "    percentage_correct_train = 100 * np.mean(class_train == Ttrain)\n",
    "    \n",
    "    class_test, _ = my_CNN.use(Xtest)\n",
    "    percentage_correct_test = 100 * np.mean(class_test == Ttest)\n",
    "    \n",
    "    net_struct_results.append([n_hidden_conv, n_hidden_fc, patch_size_per_conv, stride_per_conv, percentage_correct_train, percentage_correct_test])\n",
    "    "
   ]
  },
  {
   "cell_type": "code",
   "execution_count": 86,
   "metadata": {},
   "outputs": [
    {
     "name": "stdout",
     "output_type": "stream",
     "text": [
      "adam: Epoch 200 Loss 0.698\n",
      "adam: Epoch 400 Loss 0.680\n",
      "adam: Epoch 600 Loss 0.669\n",
      "adam: Epoch 800 Loss 0.652\n",
      "adam: Epoch 1000 Loss 0.646\n",
      "adam: Epoch 1200 Loss 0.648\n",
      "adam: Epoch 1400 Loss 0.627\n",
      "adam: Epoch 1600 Loss 0.614\n",
      "adam: Epoch 1800 Loss 0.635\n",
      "adam: Epoch 2000 Loss 0.613\n"
     ]
    }
   ],
   "source": [
    "net_struct_experiment([], [], [], [])"
   ]
  },
  {
   "cell_type": "code",
   "execution_count": 90,
   "metadata": {},
   "outputs": [
    {
     "name": "stdout",
     "output_type": "stream",
     "text": [
      "adam: Epoch 200 Loss nan\n",
      "adam: Epoch 400 Loss nan\n",
      "adam: Epoch 600 Loss nan\n",
      "adam: Epoch 800 Loss nan\n",
      "adam: Epoch 1000 Loss nan\n",
      "adam: Epoch 1200 Loss nan\n",
      "adam: Epoch 1400 Loss nan\n",
      "adam: Epoch 1600 Loss nan\n",
      "adam: Epoch 1800 Loss nan\n",
      "adam: Epoch 2000 Loss nan\n"
     ]
    }
   ],
   "source": [
    "net_struct_experiment([10], [1], [1], [1])"
   ]
  },
  {
   "cell_type": "code",
   "execution_count": 91,
   "metadata": {},
   "outputs": [
    {
     "name": "stdout",
     "output_type": "stream",
     "text": [
      "adam: Epoch 200 Loss 0.674\n",
      "adam: Epoch 400 Loss 0.674\n",
      "adam: Epoch 600 Loss 0.674\n",
      "adam: Epoch 800 Loss 0.674\n",
      "adam: Epoch 1000 Loss 0.674\n",
      "adam: Epoch 1200 Loss 0.674\n",
      "adam: Epoch 1400 Loss 0.674\n",
      "adam: Epoch 1600 Loss 0.674\n",
      "adam: Epoch 1800 Loss 0.674\n",
      "adam: Epoch 2000 Loss 0.674\n"
     ]
    }
   ],
   "source": [
    "net_struct_experiment([1], [10], [1], [1])"
   ]
  },
  {
   "cell_type": "code",
   "execution_count": 92,
   "metadata": {},
   "outputs": [
    {
     "name": "stdout",
     "output_type": "stream",
     "text": [
      "adam: Epoch 200 Loss 0.673\n",
      "adam: Epoch 400 Loss 0.673\n",
      "adam: Epoch 600 Loss 0.673\n",
      "adam: Epoch 800 Loss 0.673\n",
      "adam: Epoch 1000 Loss 0.673\n",
      "adam: Epoch 1200 Loss 0.673\n",
      "adam: Epoch 1400 Loss 0.673\n",
      "adam: Epoch 1600 Loss 0.673\n",
      "adam: Epoch 1800 Loss 0.673\n",
      "adam: Epoch 2000 Loss 0.673\n"
     ]
    }
   ],
   "source": [
    "net_struct_experiment([1], [1], [10], [1])"
   ]
  },
  {
   "cell_type": "code",
   "execution_count": 93,
   "metadata": {},
   "outputs": [
    {
     "name": "stdout",
     "output_type": "stream",
     "text": [
      "adam: Epoch 200 Loss 0.633\n",
      "adam: Epoch 400 Loss 0.629\n",
      "adam: Epoch 600 Loss 0.627\n",
      "adam: Epoch 800 Loss 0.626\n",
      "adam: Epoch 1000 Loss 0.625\n",
      "adam: Epoch 1200 Loss 0.624\n",
      "adam: Epoch 1400 Loss 0.623\n",
      "adam: Epoch 1600 Loss 0.623\n",
      "adam: Epoch 1800 Loss 0.622\n",
      "adam: Epoch 2000 Loss 0.622\n"
     ]
    }
   ],
   "source": [
    "net_struct_experiment([1], [1], [1], [10])"
   ]
  },
  {
   "cell_type": "code",
   "execution_count": 94,
   "metadata": {},
   "outputs": [
    {
     "name": "stdout",
     "output_type": "stream",
     "text": [
      "adam: Epoch 200 Loss 0.674\n",
      "adam: Epoch 400 Loss 0.674\n",
      "adam: Epoch 600 Loss 0.674\n",
      "adam: Epoch 800 Loss 0.674\n",
      "adam: Epoch 1000 Loss 0.674\n",
      "adam: Epoch 1200 Loss 0.674\n",
      "adam: Epoch 1400 Loss 0.674\n",
      "adam: Epoch 1600 Loss 0.674\n",
      "adam: Epoch 1800 Loss 0.674\n",
      "adam: Epoch 2000 Loss 0.674\n"
     ]
    }
   ],
   "source": [
    "net_struct_experiment([10], [10], [1], [1])"
   ]
  },
  {
   "cell_type": "code",
   "execution_count": 95,
   "metadata": {},
   "outputs": [
    {
     "name": "stdout",
     "output_type": "stream",
     "text": [
      "adam: Epoch 200 Loss 0.674\n",
      "adam: Epoch 400 Loss 0.674\n",
      "adam: Epoch 600 Loss 0.674\n",
      "adam: Epoch 800 Loss 0.674\n",
      "adam: Epoch 1000 Loss 0.674\n",
      "adam: Epoch 1200 Loss 0.674\n",
      "adam: Epoch 1400 Loss 0.674\n",
      "adam: Epoch 1600 Loss 0.674\n",
      "adam: Epoch 1800 Loss 0.674\n",
      "adam: Epoch 2000 Loss 0.674\n"
     ]
    }
   ],
   "source": [
    "net_struct_experiment([10], [10], [1], [10])"
   ]
  },
  {
   "cell_type": "code",
   "execution_count": 96,
   "metadata": {},
   "outputs": [
    {
     "name": "stdout",
     "output_type": "stream",
     "text": [
      "adam: Epoch 200 Loss 0.636\n",
      "adam: Epoch 400 Loss 0.612\n",
      "adam: Epoch 600 Loss 0.611\n",
      "adam: Epoch 800 Loss 0.629\n",
      "adam: Epoch 1000 Loss 0.593\n",
      "adam: Epoch 1200 Loss 0.567\n",
      "adam: Epoch 1400 Loss 0.582\n",
      "adam: Epoch 1600 Loss 0.555\n",
      "adam: Epoch 1800 Loss 0.552\n",
      "adam: Epoch 2000 Loss 0.555\n"
     ]
    }
   ],
   "source": [
    "net_struct_experiment([10], [10], [10], [1])"
   ]
  },
  {
   "cell_type": "code",
   "execution_count": 97,
   "metadata": {},
   "outputs": [
    {
     "name": "stdout",
     "output_type": "stream",
     "text": [
      "adam: Epoch 200 Loss 0.213\n",
      "adam: Epoch 400 Loss 0.219\n",
      "adam: Epoch 600 Loss 0.207\n",
      "adam: Epoch 800 Loss 0.119\n",
      "adam: Epoch 1000 Loss 0.113\n",
      "adam: Epoch 1200 Loss 0.104\n",
      "adam: Epoch 1400 Loss 0.102\n",
      "adam: Epoch 1600 Loss 0.112\n",
      "adam: Epoch 1800 Loss 0.103\n",
      "adam: Epoch 2000 Loss 0.100\n"
     ]
    }
   ],
   "source": [
    "net_struct_experiment([10], [10], [10], [10])"
   ]
  },
  {
   "cell_type": "code",
   "execution_count": 100,
   "metadata": {},
   "outputs": [
    {
     "name": "stdout",
     "output_type": "stream",
     "text": [
      "adam: Epoch 200 Loss 0.674\n",
      "adam: Epoch 400 Loss 0.674\n",
      "adam: Epoch 600 Loss 0.674\n",
      "adam: Epoch 800 Loss 0.674\n",
      "adam: Epoch 1000 Loss 0.674\n",
      "adam: Epoch 1200 Loss 0.674\n",
      "adam: Epoch 1400 Loss 0.674\n",
      "adam: Epoch 1600 Loss 0.611\n",
      "adam: Epoch 1800 Loss 0.517\n",
      "adam: Epoch 2000 Loss 0.519\n"
     ]
    }
   ],
   "source": [
    "net_struct_experiment([1], [10, 10, 10, 10], [1], [1])"
   ]
  },
  {
   "cell_type": "code",
   "execution_count": 105,
   "metadata": {},
   "outputs": [
    {
     "name": "stdout",
     "output_type": "stream",
     "text": [
      "adam: Epoch 200 Loss 0.065\n",
      "adam: Epoch 400 Loss 0.046\n",
      "adam: Epoch 600 Loss 0.079\n",
      "adam: Epoch 800 Loss 0.009\n",
      "adam: Epoch 1000 Loss 0.073\n",
      "adam: Epoch 1200 Loss 0.015\n",
      "adam: Epoch 1400 Loss 0.079\n",
      "adam: Epoch 1600 Loss 0.100\n",
      "adam: Epoch 1800 Loss 0.047\n",
      "adam: Epoch 2000 Loss 0.026\n"
     ]
    }
   ],
   "source": [
    "net_struct_experiment([10, 10], [10, 10, 100, 100], [20, 5], [20, 5])"
   ]
  },
  {
   "cell_type": "code",
   "execution_count": 106,
   "metadata": {},
   "outputs": [
    {
     "name": "stdout",
     "output_type": "stream",
     "text": [
      "adam: Epoch 200 Loss 0.379\n",
      "adam: Epoch 400 Loss 0.190\n",
      "adam: Epoch 600 Loss 0.196\n",
      "adam: Epoch 800 Loss 0.138\n",
      "adam: Epoch 1000 Loss 0.180\n",
      "adam: Epoch 1200 Loss 0.142\n",
      "adam: Epoch 1400 Loss 0.097\n",
      "adam: Epoch 1600 Loss 0.128\n",
      "adam: Epoch 1800 Loss 0.290\n",
      "adam: Epoch 2000 Loss 0.246\n"
     ]
    }
   ],
   "source": [
    "net_struct_experiment([10, 100, 1000], [5, 10, 100, 100], [20, 10, 5], [20, 5, 15])"
   ]
  },
  {
   "cell_type": "code",
   "execution_count": 112,
   "metadata": {
    "scrolled": true
   },
   "outputs": [
    {
     "name": "stdout",
     "output_type": "stream",
     "text": [
      "adam: Epoch 200 Loss 0.661\n",
      "adam: Epoch 400 Loss 0.653\n",
      "adam: Epoch 600 Loss 0.701\n",
      "adam: Epoch 800 Loss 0.700\n",
      "adam: Epoch 1000 Loss 0.852\n",
      "adam: Epoch 1200 Loss 0.843\n",
      "adam: Epoch 1400 Loss 0.684\n",
      "adam: Epoch 1600 Loss 0.682\n",
      "adam: Epoch 1800 Loss 0.694\n",
      "adam: Epoch 2000 Loss 0.706\n"
     ]
    }
   ],
   "source": [
    "net_struct_experiment([10, 100, 100, 1000], [25, 10, 100, 1000], [20, 10, 1, 1], [20, 5, 5, 10])"
   ]
  },
  {
   "cell_type": "code",
   "execution_count": 113,
   "metadata": {},
   "outputs": [
    {
     "data": {
      "text/html": [
       "<div>\n",
       "<style scoped>\n",
       "    .dataframe tbody tr th:only-of-type {\n",
       "        vertical-align: middle;\n",
       "    }\n",
       "\n",
       "    .dataframe tbody tr th {\n",
       "        vertical-align: top;\n",
       "    }\n",
       "\n",
       "    .dataframe thead th {\n",
       "        text-align: right;\n",
       "    }\n",
       "</style>\n",
       "<table border=\"1\" class=\"dataframe\">\n",
       "  <thead>\n",
       "    <tr style=\"text-align: right;\">\n",
       "      <th></th>\n",
       "      <th>Hidden Units/Convs</th>\n",
       "      <th>Hidden Units/FC</th>\n",
       "      <th>Patch Size/Conv</th>\n",
       "      <th>Stride/Conv</th>\n",
       "      <th>Train Accuracy</th>\n",
       "      <th>Test Accuracy</th>\n",
       "    </tr>\n",
       "  </thead>\n",
       "  <tbody>\n",
       "    <tr>\n",
       "      <th>0</th>\n",
       "      <td>[]</td>\n",
       "      <td>[]</td>\n",
       "      <td>[]</td>\n",
       "      <td>[]</td>\n",
       "      <td>65.319588</td>\n",
       "      <td>50.948063</td>\n",
       "    </tr>\n",
       "    <tr>\n",
       "      <th>1</th>\n",
       "      <td>[10]</td>\n",
       "      <td>[1]</td>\n",
       "      <td>[1]</td>\n",
       "      <td>[1]</td>\n",
       "      <td>40.123711</td>\n",
       "      <td>39.818631</td>\n",
       "    </tr>\n",
       "    <tr>\n",
       "      <th>2</th>\n",
       "      <td>[10]</td>\n",
       "      <td>[1]</td>\n",
       "      <td>[1]</td>\n",
       "      <td>[1]</td>\n",
       "      <td>40.123711</td>\n",
       "      <td>39.818631</td>\n",
       "    </tr>\n",
       "    <tr>\n",
       "      <th>3</th>\n",
       "      <td>[1]</td>\n",
       "      <td>[10]</td>\n",
       "      <td>[1]</td>\n",
       "      <td>[1]</td>\n",
       "      <td>59.876289</td>\n",
       "      <td>60.181369</td>\n",
       "    </tr>\n",
       "    <tr>\n",
       "      <th>4</th>\n",
       "      <td>[1]</td>\n",
       "      <td>[1]</td>\n",
       "      <td>[10]</td>\n",
       "      <td>[1]</td>\n",
       "      <td>59.876289</td>\n",
       "      <td>60.181369</td>\n",
       "    </tr>\n",
       "    <tr>\n",
       "      <th>5</th>\n",
       "      <td>[1]</td>\n",
       "      <td>[1]</td>\n",
       "      <td>[1]</td>\n",
       "      <td>[10]</td>\n",
       "      <td>59.876289</td>\n",
       "      <td>60.181369</td>\n",
       "    </tr>\n",
       "    <tr>\n",
       "      <th>6</th>\n",
       "      <td>[10]</td>\n",
       "      <td>[10]</td>\n",
       "      <td>[1]</td>\n",
       "      <td>[1]</td>\n",
       "      <td>59.876289</td>\n",
       "      <td>60.181369</td>\n",
       "    </tr>\n",
       "    <tr>\n",
       "      <th>7</th>\n",
       "      <td>[10]</td>\n",
       "      <td>[10]</td>\n",
       "      <td>[1]</td>\n",
       "      <td>[10]</td>\n",
       "      <td>59.876289</td>\n",
       "      <td>60.181369</td>\n",
       "    </tr>\n",
       "    <tr>\n",
       "      <th>8</th>\n",
       "      <td>[10]</td>\n",
       "      <td>[10]</td>\n",
       "      <td>[10]</td>\n",
       "      <td>[1]</td>\n",
       "      <td>69.525773</td>\n",
       "      <td>65.210223</td>\n",
       "    </tr>\n",
       "    <tr>\n",
       "      <th>9</th>\n",
       "      <td>[10]</td>\n",
       "      <td>[10]</td>\n",
       "      <td>[10]</td>\n",
       "      <td>[10]</td>\n",
       "      <td>94.556701</td>\n",
       "      <td>64.056059</td>\n",
       "    </tr>\n",
       "    <tr>\n",
       "      <th>10</th>\n",
       "      <td>[1]</td>\n",
       "      <td>[10, 10, 10, 10]</td>\n",
       "      <td>[1]</td>\n",
       "      <td>[1]</td>\n",
       "      <td>65.216495</td>\n",
       "      <td>54.905194</td>\n",
       "    </tr>\n",
       "    <tr>\n",
       "      <th>11</th>\n",
       "      <td>[1]</td>\n",
       "      <td>[10, 10, 10, 10]</td>\n",
       "      <td>[1]</td>\n",
       "      <td>[1]</td>\n",
       "      <td>71.010309</td>\n",
       "      <td>60.758450</td>\n",
       "    </tr>\n",
       "    <tr>\n",
       "      <th>12</th>\n",
       "      <td>[10, 10]</td>\n",
       "      <td>[10, 10, 100, 100]</td>\n",
       "      <td>[20, 5]</td>\n",
       "      <td>[20, 5]</td>\n",
       "      <td>95.381443</td>\n",
       "      <td>68.260511</td>\n",
       "    </tr>\n",
       "    <tr>\n",
       "      <th>13</th>\n",
       "      <td>[10, 10]</td>\n",
       "      <td>[10, 10, 100, 100]</td>\n",
       "      <td>[20, 5]</td>\n",
       "      <td>[20, 5]</td>\n",
       "      <td>97.092784</td>\n",
       "      <td>71.640561</td>\n",
       "    </tr>\n",
       "    <tr>\n",
       "      <th>14</th>\n",
       "      <td>[10, 100, 1000]</td>\n",
       "      <td>[5, 10, 100, 100]</td>\n",
       "      <td>[20, 10, 5]</td>\n",
       "      <td>[20, 5, 15]</td>\n",
       "      <td>89.670103</td>\n",
       "      <td>70.651278</td>\n",
       "    </tr>\n",
       "    <tr>\n",
       "      <th>15</th>\n",
       "      <td>[10, 100, 100, 1000]</td>\n",
       "      <td>[25, 10, 100, 1000]</td>\n",
       "      <td>[20, 10, 1, 1]</td>\n",
       "      <td>[20, 5, 5, 10]</td>\n",
       "      <td>60.020619</td>\n",
       "      <td>60.016488</td>\n",
       "    </tr>\n",
       "  </tbody>\n",
       "</table>\n",
       "</div>"
      ],
      "text/plain": [
       "      Hidden Units/Convs      Hidden Units/FC Patch Size/Conv     Stride/Conv  \\\n",
       "0                     []                   []              []              []   \n",
       "1                   [10]                  [1]             [1]             [1]   \n",
       "2                   [10]                  [1]             [1]             [1]   \n",
       "3                    [1]                 [10]             [1]             [1]   \n",
       "4                    [1]                  [1]            [10]             [1]   \n",
       "5                    [1]                  [1]             [1]            [10]   \n",
       "6                   [10]                 [10]             [1]             [1]   \n",
       "7                   [10]                 [10]             [1]            [10]   \n",
       "8                   [10]                 [10]            [10]             [1]   \n",
       "9                   [10]                 [10]            [10]            [10]   \n",
       "10                   [1]     [10, 10, 10, 10]             [1]             [1]   \n",
       "11                   [1]     [10, 10, 10, 10]             [1]             [1]   \n",
       "12              [10, 10]   [10, 10, 100, 100]         [20, 5]         [20, 5]   \n",
       "13              [10, 10]   [10, 10, 100, 100]         [20, 5]         [20, 5]   \n",
       "14       [10, 100, 1000]    [5, 10, 100, 100]     [20, 10, 5]     [20, 5, 15]   \n",
       "15  [10, 100, 100, 1000]  [25, 10, 100, 1000]  [20, 10, 1, 1]  [20, 5, 5, 10]   \n",
       "\n",
       "    Train Accuracy  Test Accuracy  \n",
       "0        65.319588      50.948063  \n",
       "1        40.123711      39.818631  \n",
       "2        40.123711      39.818631  \n",
       "3        59.876289      60.181369  \n",
       "4        59.876289      60.181369  \n",
       "5        59.876289      60.181369  \n",
       "6        59.876289      60.181369  \n",
       "7        59.876289      60.181369  \n",
       "8        69.525773      65.210223  \n",
       "9        94.556701      64.056059  \n",
       "10       65.216495      54.905194  \n",
       "11       71.010309      60.758450  \n",
       "12       95.381443      68.260511  \n",
       "13       97.092784      71.640561  \n",
       "14       89.670103      70.651278  \n",
       "15       60.020619      60.016488  "
      ]
     },
     "execution_count": 113,
     "metadata": {},
     "output_type": "execute_result"
    }
   ],
   "source": [
    "pandas.DataFrame(net_struct_results, columns=(\"Hidden Units/Convs\", \"Hidden Units/FC\", \"Patch Size/Conv\", \"Stride/Conv\", \"Train Accuracy\", \"Test Accuracy\"))"
   ]
  },
  {
   "attachments": {},
   "cell_type": "markdown",
   "metadata": {},
   "source": [
    "In an effort to understand the impact of variables on the neural network, I conducted a total of 16 experiments on the ECG data. Out of these 16 experiments, 13 did not perform well, with both test and train accuracy below 90%. The remaining 3 experiments, which had a higher level of complexity, performed above 90% only on the training data. I attribute this poor performance to the complexity of the data, which requires network parameters that can capture a large number of patterns. I attempted to address this issue by using more complex network architectures, but they did not perform well either, likely due to significant overfitting.\n",
    "\n",
    "There were significant improvements in the accuracy of the architectures when additional hidden units/FC, patch size, or stride were added. For instance, architecture (2) had a train accuracy of 40%, which increased by 20% to 60% when 1 layer of 10 hidden units/FC was added (architecture (3)). Similarly, adding a single layer of 10 patch size/conv or stride/conv units also resulted in a significant improvement in train accuracy. The combination of all three factors in architecture (9) led to a 30% increase in train accuracy to 94%. Although architecture (9) only had one layer of 10 units for each factor, it performed exceptionally well, making the gains in (12) and (13), which had an accuracy of around 96% after additional training, seem modest in comparison.\n",
    "\n",
    "In conclusion, the patch size plays a critical role in the performance of the neural network. By providing the network with greater awareness of the surrounding data, the patch size can lead to improved accuracy. This was evident in architecture (4), where adding 1 layer of 10 patch size units resulted in a 20% increase in accuracy. Due to the size of this dataset, the ability to take surrounding data into account can lead to phenomenal performance improvements."
   ]
  }
 ],
 "metadata": {
  "kernelspec": {
   "display_name": "Python 3 (ipykernel)",
   "language": "python",
   "name": "python3"
  },
  "language_info": {
   "codemirror_mode": {
    "name": "ipython",
    "version": 3
   },
   "file_extension": ".py",
   "mimetype": "text/x-python",
   "name": "python",
   "nbconvert_exporter": "python",
   "pygments_lexer": "ipython3",
   "version": "3.8.9"
  },
  "toc": {
   "base_numbering": 1,
   "nav_menu": {},
   "number_sections": true,
   "sideBar": true,
   "skip_h1_title": false,
   "title_cell": "Table of Contents",
   "title_sidebar": "Contents",
   "toc_cell": false,
   "toc_position": {
    "height": "calc(100% - 180px)",
    "left": "10px",
    "top": "150px",
    "width": "165px"
   },
   "toc_section_display": true,
   "toc_window_display": false
  }
 },
 "nbformat": 4,
 "nbformat_minor": 2
}
